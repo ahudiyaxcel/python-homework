{
 "cells": [
  {
   "cell_type": "code",
   "execution_count": 1,
   "id": "49ad3be9-b092-437d-ae91-8206de713f59",
   "metadata": {},
   "outputs": [],
   "source": [
    "import pandas as pd"
   ]
  },
  {
   "cell_type": "code",
   "execution_count": 2,
   "id": "b2bd24ed-d0f2-4803-9833-5e5dea817f9e",
   "metadata": {},
   "outputs": [
    {
     "ename": "ModuleNotFoundError",
     "evalue": "No module named 'Pathlib'",
     "output_type": "error",
     "traceback": [
      "\u001b[1;31m---------------------------------------------------------------------------\u001b[0m",
      "\u001b[1;31mModuleNotFoundError\u001b[0m                       Traceback (most recent call last)",
      "\u001b[1;32m<ipython-input-2-3e1cb69063fd>\u001b[0m in \u001b[0;36m<module>\u001b[1;34m\u001b[0m\n\u001b[1;32m----> 1\u001b[1;33m \u001b[1;32mfrom\u001b[0m \u001b[0mPathlib\u001b[0m \u001b[1;32mimport\u001b[0m \u001b[0mPath\u001b[0m\u001b[1;33m\u001b[0m\u001b[1;33m\u001b[0m\u001b[0m\n\u001b[0m",
      "\u001b[1;31mModuleNotFoundError\u001b[0m: No module named 'Pathlib'"
     ]
    }
   ],
   "source": [
    "from Pathlib import Path"
   ]
  },
  {
   "cell_type": "code",
   "execution_count": 3,
   "id": "0ed1f193-3c29-4d52-b500-8a56aa15d343",
   "metadata": {},
   "outputs": [],
   "source": [
    "from pathlib import Path"
   ]
  },
  {
   "cell_type": "code",
   "execution_count": 4,
   "id": "337db791-36d3-4c64-bedb-1cbc37849e01",
   "metadata": {},
   "outputs": [],
   "source": [
    "csv_path = Path (\"../PyBank/budget_data.csv\")"
   ]
  },
  {
   "cell_type": "code",
   "execution_count": 6,
   "id": "b162be02-ede8-4ec8-a4a2-c13afa007cc4",
   "metadata": {},
   "outputs": [],
   "source": [
    "budget_data = pd.read_csv(csv_path)"
   ]
  },
  {
   "cell_type": "code",
   "execution_count": 7,
   "id": "ef4d44e1-9395-4678-b3ee-3a72376a5c6d",
   "metadata": {},
   "outputs": [
    {
     "data": {
      "text/html": [
       "<div>\n",
       "<style scoped>\n",
       "    .dataframe tbody tr th:only-of-type {\n",
       "        vertical-align: middle;\n",
       "    }\n",
       "\n",
       "    .dataframe tbody tr th {\n",
       "        vertical-align: top;\n",
       "    }\n",
       "\n",
       "    .dataframe thead th {\n",
       "        text-align: right;\n",
       "    }\n",
       "</style>\n",
       "<table border=\"1\" class=\"dataframe\">\n",
       "  <thead>\n",
       "    <tr style=\"text-align: right;\">\n",
       "      <th></th>\n",
       "      <th>Date</th>\n",
       "      <th>Profit/Losses</th>\n",
       "    </tr>\n",
       "  </thead>\n",
       "  <tbody>\n",
       "    <tr>\n",
       "      <th>0</th>\n",
       "      <td>Jan-2010</td>\n",
       "      <td>867884</td>\n",
       "    </tr>\n",
       "    <tr>\n",
       "      <th>1</th>\n",
       "      <td>Feb-2010</td>\n",
       "      <td>984655</td>\n",
       "    </tr>\n",
       "    <tr>\n",
       "      <th>2</th>\n",
       "      <td>Mar-2010</td>\n",
       "      <td>322013</td>\n",
       "    </tr>\n",
       "    <tr>\n",
       "      <th>3</th>\n",
       "      <td>Apr-2010</td>\n",
       "      <td>-69417</td>\n",
       "    </tr>\n",
       "    <tr>\n",
       "      <th>4</th>\n",
       "      <td>May-2010</td>\n",
       "      <td>310503</td>\n",
       "    </tr>\n",
       "  </tbody>\n",
       "</table>\n",
       "</div>"
      ],
      "text/plain": [
       "       Date  Profit/Losses\n",
       "0  Jan-2010         867884\n",
       "1  Feb-2010         984655\n",
       "2  Mar-2010         322013\n",
       "3  Apr-2010         -69417\n",
       "4  May-2010         310503"
      ]
     },
     "execution_count": 7,
     "metadata": {},
     "output_type": "execute_result"
    }
   ],
   "source": [
    "budget_data.head()"
   ]
  },
  {
   "cell_type": "code",
   "execution_count": 8,
   "id": "684dd5d5-5db8-430d-87a4-8b33f3364d66",
   "metadata": {},
   "outputs": [],
   "source": [
    "budget_data['change'] = budget_data.iloc[:,1].diff(1)"
   ]
  },
  {
   "cell_type": "code",
   "execution_count": 9,
   "id": "1350b695-7c34-4ec0-a745-e928884dc7f0",
   "metadata": {},
   "outputs": [
    {
     "data": {
      "text/html": [
       "<div>\n",
       "<style scoped>\n",
       "    .dataframe tbody tr th:only-of-type {\n",
       "        vertical-align: middle;\n",
       "    }\n",
       "\n",
       "    .dataframe tbody tr th {\n",
       "        vertical-align: top;\n",
       "    }\n",
       "\n",
       "    .dataframe thead th {\n",
       "        text-align: right;\n",
       "    }\n",
       "</style>\n",
       "<table border=\"1\" class=\"dataframe\">\n",
       "  <thead>\n",
       "    <tr style=\"text-align: right;\">\n",
       "      <th></th>\n",
       "      <th>Date</th>\n",
       "      <th>Profit/Losses</th>\n",
       "      <th>change</th>\n",
       "    </tr>\n",
       "  </thead>\n",
       "  <tbody>\n",
       "    <tr>\n",
       "      <th>0</th>\n",
       "      <td>Jan-2010</td>\n",
       "      <td>867884</td>\n",
       "      <td>NaN</td>\n",
       "    </tr>\n",
       "    <tr>\n",
       "      <th>1</th>\n",
       "      <td>Feb-2010</td>\n",
       "      <td>984655</td>\n",
       "      <td>116771.0</td>\n",
       "    </tr>\n",
       "    <tr>\n",
       "      <th>2</th>\n",
       "      <td>Mar-2010</td>\n",
       "      <td>322013</td>\n",
       "      <td>-662642.0</td>\n",
       "    </tr>\n",
       "    <tr>\n",
       "      <th>3</th>\n",
       "      <td>Apr-2010</td>\n",
       "      <td>-69417</td>\n",
       "      <td>-391430.0</td>\n",
       "    </tr>\n",
       "    <tr>\n",
       "      <th>4</th>\n",
       "      <td>May-2010</td>\n",
       "      <td>310503</td>\n",
       "      <td>379920.0</td>\n",
       "    </tr>\n",
       "  </tbody>\n",
       "</table>\n",
       "</div>"
      ],
      "text/plain": [
       "       Date  Profit/Losses    change\n",
       "0  Jan-2010         867884       NaN\n",
       "1  Feb-2010         984655  116771.0\n",
       "2  Mar-2010         322013 -662642.0\n",
       "3  Apr-2010         -69417 -391430.0\n",
       "4  May-2010         310503  379920.0"
      ]
     },
     "execution_count": 9,
     "metadata": {},
     "output_type": "execute_result"
    }
   ],
   "source": [
    "budget_data.head()"
   ]
  },
  {
   "cell_type": "code",
   "execution_count": 10,
   "id": "d6a61669-49af-4e9c-860c-377aba50e73b",
   "metadata": {},
   "outputs": [
    {
     "data": {
      "text/plain": [
       "86"
      ]
     },
     "execution_count": 10,
     "metadata": {},
     "output_type": "execute_result"
    }
   ],
   "source": [
    "budget_data.iloc[:,0].count()"
   ]
  },
  {
   "cell_type": "code",
   "execution_count": 12,
   "id": "61306209-55a5-4acc-beec-41c75f7d554a",
   "metadata": {},
   "outputs": [
    {
     "data": {
      "text/plain": [
       "38382578"
      ]
     },
     "execution_count": 12,
     "metadata": {},
     "output_type": "execute_result"
    }
   ],
   "source": [
    "budget_data.iloc[:,1].sum()"
   ]
  },
  {
   "cell_type": "code",
   "execution_count": 13,
   "id": "9e9e0e5f-9d84-431e-9b42-e2ca43812023",
   "metadata": {},
   "outputs": [
    {
     "data": {
      "text/plain": [
       "-2315.1176470588234"
      ]
     },
     "execution_count": 13,
     "metadata": {},
     "output_type": "execute_result"
    }
   ],
   "source": [
    "budget_data['change'].mean()"
   ]
  },
  {
   "cell_type": "code",
   "execution_count": 15,
   "id": "190dea3b-ef98-4e55-941c-1d57f5fb9daf",
   "metadata": {},
   "outputs": [
    {
     "data": {
      "text/plain": [
       "Date       Sep-2016\n",
       "change    1926159.0\n",
       "dtype: object"
      ]
     },
     "execution_count": 15,
     "metadata": {},
     "output_type": "execute_result"
    }
   ],
   "source": [
    "budget_data.iloc[:,[0,2]].max()"
   ]
  },
  {
   "cell_type": "code",
   "execution_count": 16,
   "id": "28c9f56f-8a5f-4573-ac12-762af3fbf796",
   "metadata": {},
   "outputs": [
    {
     "data": {
      "text/plain": [
       "Date       Apr-2010\n",
       "change   -2196167.0\n",
       "dtype: object"
      ]
     },
     "execution_count": 16,
     "metadata": {},
     "output_type": "execute_result"
    }
   ],
   "source": [
    "budget_data.iloc[:,[0,2]].min()"
   ]
  },
  {
   "cell_type": "code",
   "execution_count": 27,
   "id": "2a28af1c-64bc-4b27-bc00-2ad38126f05f",
   "metadata": {},
   "outputs": [],
   "source": [
    "Total_months = budget_data.iloc[:,0].count()\n",
    "Total = budget_data.iloc[:,1].sum()\n",
    "Average_change = budget_data['change'].mean()\n",
    "Greatest_increase = budget_data.iloc[:,[0,2]].max()\n",
    "Greatest_decrease = budget_data.iloc[:,[0,2]].min()\n",
    "\n",
    "def data(Total_months, Total,Average_change,Greatest_increase, Greatest_decrease):\n",
    "    Result = (f\"Financial Analysis Total months: {Total_months}, Total:$ {Total}, Average change: {Average_change}, Greatest Increase In Profit: {Greatest_increase}, Greates Decrease in Profit: {Greatest_decrease}\")\n",
    "    return Result\n",
    "    "
   ]
  },
  {
   "cell_type": "code",
   "execution_count": 26,
   "id": "e236a2c1-5f17-4694-ac45-83bafedd701c",
   "metadata": {},
   "outputs": [
    {
     "name": "stdout",
     "output_type": "stream",
     "text": [
      "Financial Analysis Total months: 86, Total:$ 38382578, Average change: -2315.1176470588234, Greatest Increase In Profit: (Date       Sep-2016\n",
      "change    1926159.0\n",
      "dtype: object), Greates Decrease in Profit: (Date       Apr-2010\n",
      "change   -2196167.0\n",
      "dtype: object)\n"
     ]
    }
   ],
   "source": [
    "c = data(Total_months, Total,Average_change,Greatest_increase, Greatest_decrease)\n",
    "print (c)"
   ]
  },
  {
   "cell_type": "code",
   "execution_count": 2,
   "id": "32ca664c-ef9c-4afe-a998-59e74341d269",
   "metadata": {},
   "outputs": [
    {
     "data": {
      "text/plain": [
       "<ipykernel.iostream.OutStream at 0x2127aaa9eb0>"
      ]
     },
     "execution_count": 2,
     "metadata": {},
     "output_type": "execute_result"
    }
   ],
   "source": [
    "import sys\n",
    "sys.stdout"
   ]
  },
  {
   "cell_type": "code",
   "execution_count": 3,
   "id": "fc9d8091-f1ac-485e-959b-07a78a3ff57f",
   "metadata": {},
   "outputs": [],
   "source": [
    "import numpy as np"
   ]
  },
  {
   "cell_type": "code",
   "execution_count": 5,
   "id": "15395171-0406-4500-8bbf-ebe780dadf62",
   "metadata": {},
   "outputs": [
    {
     "ename": "NameError",
     "evalue": "name 'budget_data' is not defined",
     "output_type": "error",
     "traceback": [
      "\u001b[1;31m---------------------------------------------------------------------------\u001b[0m",
      "\u001b[1;31mNameError\u001b[0m                                 Traceback (most recent call last)",
      "\u001b[1;32m<ipython-input-5-e64e0b7c588d>\u001b[0m in \u001b[0;36m<module>\u001b[1;34m\u001b[0m\n\u001b[1;32m----> 1\u001b[1;33m \u001b[0mbudget_data\u001b[0m\u001b[1;33m.\u001b[0m\u001b[0mhead\u001b[0m\u001b[1;33m(\u001b[0m\u001b[1;33m)\u001b[0m\u001b[1;33m\u001b[0m\u001b[1;33m\u001b[0m\u001b[0m\n\u001b[0m",
      "\u001b[1;31mNameError\u001b[0m: name 'budget_data' is not defined"
     ]
    }
   ],
   "source": [
    "budget_data.head()"
   ]
  },
  {
   "cell_type": "code",
   "execution_count": 1,
   "id": "898f0227-f1a0-42ca-8428-29948eff2e00",
   "metadata": {},
   "outputs": [],
   "source": [
    "import pandas as pd"
   ]
  },
  {
   "cell_type": "code",
   "execution_count": 2,
   "id": "dfad3dee-f408-4db8-9b35-b7d1ae3a3afc",
   "metadata": {},
   "outputs": [
    {
     "ename": "ModuleNotFoundError",
     "evalue": "No module named 'Pathlib'",
     "output_type": "error",
     "traceback": [
      "\u001b[1;31m---------------------------------------------------------------------------\u001b[0m",
      "\u001b[1;31mModuleNotFoundError\u001b[0m                       Traceback (most recent call last)",
      "\u001b[1;32m<ipython-input-2-3e1cb69063fd>\u001b[0m in \u001b[0;36m<module>\u001b[1;34m\u001b[0m\n\u001b[1;32m----> 1\u001b[1;33m \u001b[1;32mfrom\u001b[0m \u001b[0mPathlib\u001b[0m \u001b[1;32mimport\u001b[0m \u001b[0mPath\u001b[0m\u001b[1;33m\u001b[0m\u001b[1;33m\u001b[0m\u001b[0m\n\u001b[0m",
      "\u001b[1;31mModuleNotFoundError\u001b[0m: No module named 'Pathlib'"
     ]
    }
   ],
   "source": [
    "from Pathlib import Path"
   ]
  },
  {
   "cell_type": "code",
   "execution_count": 3,
   "id": "fa997940-6d05-4361-b418-ab323fdb6ec4",
   "metadata": {},
   "outputs": [],
   "source": [
    "from pathlib import Path"
   ]
  },
  {
   "cell_type": "code",
   "execution_count": 4,
   "id": "0619d52b-f2c1-483b-aaee-898ca9f83af8",
   "metadata": {},
   "outputs": [],
   "source": [
    "csv_path = Path (\"../PyBank/budget_data.csv\")"
   ]
  },
  {
   "cell_type": "code",
   "execution_count": 5,
   "id": "b2999a3a-68f4-4fae-b699-8084eec3b666",
   "metadata": {},
   "outputs": [],
   "source": [
    "budget_data = pd.read_csv(csv_path)"
   ]
  },
  {
   "cell_type": "code",
   "execution_count": 6,
   "id": "9588fe48-af11-4cfc-a9da-b6b0ad65d243",
   "metadata": {},
   "outputs": [],
   "source": [
    "budget_data['change'] = budget_data.iloc[:,1].diff(1)"
   ]
  },
  {
   "cell_type": "code",
   "execution_count": 7,
   "id": "9229833f-2bd0-4c9a-9a1c-9cf2e4cadd15",
   "metadata": {},
   "outputs": [
    {
     "data": {
      "text/html": [
       "<div>\n",
       "<style scoped>\n",
       "    .dataframe tbody tr th:only-of-type {\n",
       "        vertical-align: middle;\n",
       "    }\n",
       "\n",
       "    .dataframe tbody tr th {\n",
       "        vertical-align: top;\n",
       "    }\n",
       "\n",
       "    .dataframe thead th {\n",
       "        text-align: right;\n",
       "    }\n",
       "</style>\n",
       "<table border=\"1\" class=\"dataframe\">\n",
       "  <thead>\n",
       "    <tr style=\"text-align: right;\">\n",
       "      <th></th>\n",
       "      <th>Date</th>\n",
       "      <th>Profit/Losses</th>\n",
       "      <th>change</th>\n",
       "    </tr>\n",
       "  </thead>\n",
       "  <tbody>\n",
       "    <tr>\n",
       "      <th>0</th>\n",
       "      <td>Jan-2010</td>\n",
       "      <td>867884</td>\n",
       "      <td>NaN</td>\n",
       "    </tr>\n",
       "    <tr>\n",
       "      <th>1</th>\n",
       "      <td>Feb-2010</td>\n",
       "      <td>984655</td>\n",
       "      <td>116771.0</td>\n",
       "    </tr>\n",
       "    <tr>\n",
       "      <th>2</th>\n",
       "      <td>Mar-2010</td>\n",
       "      <td>322013</td>\n",
       "      <td>-662642.0</td>\n",
       "    </tr>\n",
       "    <tr>\n",
       "      <th>3</th>\n",
       "      <td>Apr-2010</td>\n",
       "      <td>-69417</td>\n",
       "      <td>-391430.0</td>\n",
       "    </tr>\n",
       "    <tr>\n",
       "      <th>4</th>\n",
       "      <td>May-2010</td>\n",
       "      <td>310503</td>\n",
       "      <td>379920.0</td>\n",
       "    </tr>\n",
       "  </tbody>\n",
       "</table>\n",
       "</div>"
      ],
      "text/plain": [
       "       Date  Profit/Losses    change\n",
       "0  Jan-2010         867884       NaN\n",
       "1  Feb-2010         984655  116771.0\n",
       "2  Mar-2010         322013 -662642.0\n",
       "3  Apr-2010         -69417 -391430.0\n",
       "4  May-2010         310503  379920.0"
      ]
     },
     "execution_count": 7,
     "metadata": {},
     "output_type": "execute_result"
    }
   ],
   "source": [
    "budget_data.head()"
   ]
  },
  {
   "cell_type": "code",
   "execution_count": 8,
   "id": "b2b9767d-a6b4-4e57-bd2e-caf1ffc99a27",
   "metadata": {},
   "outputs": [],
   "source": [
    "Total_months = budget_data.iloc[:,0].count()\n",
    "Total = budget_data.iloc[:,1].sum()\n",
    "Average_change = budget_data['change'].mean()\n",
    "Greatest_increase = budget_data.iloc[:,[0,2]].max()\n",
    "Greatest_decrease = budget_data.iloc[:,[0,2]].min()\n",
    "\n",
    "def data(Total_months, Total,Average_change,Greatest_increase, Greatest_decrease):\n",
    "    Result = (f\"Financial Analysis Total months: {Total_months}, Total:$ {Total}, Average change: {Average_change}, Greatest Increase In Profit: {Greatest_increase}, Greates Decrease in Profit: {Greatest_decrease}\")\n",
    "    return Result"
   ]
  },
  {
   "cell_type": "code",
   "execution_count": 9,
   "id": "79c6e065-872e-4590-9980-e9585bd696c9",
   "metadata": {},
   "outputs": [],
   "source": [
    "import numpy as np"
   ]
  },
  {
   "cell_type": "code",
   "execution_count": 10,
   "id": "a5c4a3ec-0b5c-4f7a-aceb-b01a20e9cb5c",
   "metadata": {},
   "outputs": [
    {
     "name": "stdout",
     "output_type": "stream",
     "text": [
      "Financial Analysis Total months: 86, Total:$ 38382578, Average change: -2315.1176470588234, Greatest Increase In Profit: Date       Sep-2016\n",
      "change    1926159.0\n",
      "dtype: object, Greates Decrease in Profit: Date       Apr-2010\n",
      "change   -2196167.0\n",
      "dtype: object\n"
     ]
    }
   ],
   "source": [
    "c = data(Total_months, Total,Average_change,Greatest_increase, Greatest_decrease)\n",
    "print (c)"
   ]
  },
  {
   "cell_type": "code",
   "execution_count": null,
   "id": "d9701f58-96f3-49b3-99a5-4b21338bd237",
   "metadata": {},
   "outputs": [],
   "source": [
    "import sys\n",
    "file = open('output.txt', 'a')\n",
    "sys.stdout = file\n",
    "\n",
    "print(\"Financial Analysis\") \n",
    "print(\"-------------------\")\n",
    "print(f\"Financial Analysis Total months: {Total_months}\") \n",
    "print(f\"Total:$ {Total}\")\n",
    "print(f\"Average change:$ {Average_change}\") \n",
    "print(f\"Greatest Increase In Profit:($ {Greatest_increase})\")\n",
    "print(f\"Greatest Decrease in Profit:($ {Greatest_decrease})\") \n",
    "\n",
    "file.close()"
   ]
  },
  {
   "cell_type": "code",
   "execution_count": null,
   "id": "9a68d6a0-4c85-4a65-99bd-a1f85825f605",
   "metadata": {},
   "outputs": [],
   "source": []
  }
 ],
 "metadata": {
  "kernelspec": {
   "display_name": "Python 3",
   "language": "python",
   "name": "python3"
  },
  "language_info": {
   "codemirror_mode": {
    "name": "ipython",
    "version": 3
   },
   "file_extension": ".py",
   "mimetype": "text/x-python",
   "name": "python",
   "nbconvert_exporter": "python",
   "pygments_lexer": "ipython3",
   "version": "3.8.5"
  }
 },
 "nbformat": 4,
 "nbformat_minor": 5
}
